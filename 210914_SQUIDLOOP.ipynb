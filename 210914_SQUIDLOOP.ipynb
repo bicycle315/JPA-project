{
 "cells": [
  {
   "cell_type": "markdown",
   "id": "580a8477",
   "metadata": {},
   "source": [
    "## squid_loop is added to metal\n",
    "### I changed my JPA design which was originally left as a blank to squid component."
   ]
  },
  {
   "cell_type": "code",
   "execution_count": null,
   "id": "761de437",
   "metadata": {},
   "outputs": [],
   "source": [
    "%load_ext autoreload\n",
    "%autoreload 2"
   ]
  },
  {
   "cell_type": "code",
   "execution_count": 1,
   "id": "376bee6d",
   "metadata": {},
   "outputs": [],
   "source": [
    "from qiskit_metal import draw, Dict\n",
    "from qiskit_metal.qlibrary.core.base import QComponent\n",
    "import numpy as np"
   ]
  },
  {
   "cell_type": "code",
   "execution_count": 3,
   "id": "df440cc1",
   "metadata": {},
   "outputs": [],
   "source": [
    "import qiskit_metal as metal\n",
    "from qiskit_metal import designs, draw\n",
    "from qiskit_metal import MetalGUI, Dict, open_docs"
   ]
  },
  {
   "cell_type": "code",
   "execution_count": 4,
   "id": "02d658e3",
   "metadata": {},
   "outputs": [],
   "source": [
    "design = designs.DesignPlanar()\n",
    "design.overwrite_enabled = True\n",
    "\n",
    "gui = MetalGUI(design)"
   ]
  },
  {
   "cell_type": "code",
   "execution_count": 7,
   "id": "511df152",
   "metadata": {},
   "outputs": [],
   "source": [
    "from qiskit_metal.qlibrary.qubits.SQUID_loop import SQUID_LOOP"
   ]
  },
  {
   "cell_type": "code",
   "execution_count": 8,
   "id": "474fca8a",
   "metadata": {},
   "outputs": [
    {
     "data": {
      "text/plain": [
       "{'plate1_width': '5.5um',\n",
       " 'plate1_height': '40um',\n",
       " 'plate1_x_pos': '0',\n",
       " 'plate1_y_pos': '0',\n",
       " 'squid_gap': '10um',\n",
       " 'segment_a_length': '10um',\n",
       " 'segment_a_width': '1um',\n",
       " 'JJ_gap': '0.5um',\n",
       " 'segment_b_length': '5um',\n",
       " 'segment_b_width': '1um',\n",
       " 'segment_c_width': '1um',\n",
       " 'segment_d_length': '10um',\n",
       " 'segment_d_width': '2um',\n",
       " 'plate2_width': '6um',\n",
       " 'plate2_height': '30um',\n",
       " 'rotation': '0.0',\n",
       " 'x_pos': '0.0',\n",
       " 'y_pos': '0.0',\n",
       " 'layer': '1'}"
      ]
     },
     "execution_count": 8,
     "metadata": {},
     "output_type": "execute_result"
    }
   ],
   "source": [
    "SQUID_LOOP.get_template_options(design)"
   ]
  },
  {
   "cell_type": "code",
   "execution_count": 36,
   "id": "5add3e6d",
   "metadata": {},
   "outputs": [],
   "source": [
    "squid = SQUID_LOOP(design, 'squid')"
   ]
  },
  {
   "cell_type": "code",
   "execution_count": 37,
   "id": "812f7ccc",
   "metadata": {},
   "outputs": [],
   "source": [
    "gui.rebuild()"
   ]
  },
  {
   "cell_type": "code",
   "execution_count": 54,
   "id": "ffa98bcd",
   "metadata": {},
   "outputs": [],
   "source": [
    "squid = SQUID_LOOP(design, 'squid', options=dict(JJ_gap='0um',\n",
    "                                                 plate1_height='4.2um',\n",
    "                                                plate1_width='0.05um',\n",
    "                                                 segment_a_width='0.05um',\n",
    "                                                 segment_b_width='0.05um',\n",
    "                                                 segment_c_width='0.05um',\n",
    "                                                 segment_c_length='4.2um',\n",
    "                                                 segment_d_width='0um',\n",
    "                                                 segment_d_length='0um',\n",
    "                                                 plate2_height='0um',\n",
    "                                                 rotation='90'\n",
    "                                                 \n",
    "                                             ))\n",
    "gui.rebuild()\n"
   ]
  }
 ],
 "metadata": {
  "kernelspec": {
   "display_name": "metalkernel",
   "language": "python",
   "name": "metalkernel"
  },
  "language_info": {
   "codemirror_mode": {
    "name": "ipython",
    "version": 3
   },
   "file_extension": ".py",
   "mimetype": "text/x-python",
   "name": "python",
   "nbconvert_exporter": "python",
   "pygments_lexer": "ipython3",
   "version": "3.9.5"
  }
 },
 "nbformat": 4,
 "nbformat_minor": 5
}
